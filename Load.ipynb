{
 "cells": [
  {
   "cell_type": "code",
   "execution_count": null,
   "metadata": {},
   "outputs": [],
   "source": [
    "from datetime import date \n",
    "today = date.today()\n",
    "print(\"Today's date:\", today)"
   ]
  },
  {
   "cell_type": "code",
   "execution_count": null,
   "metadata": {},
   "outputs": [],
   "source": [
    "import os\n",
    "from pyspark.sql.types import StructType, StructField, StringType, IntegerType, FloatType, DoubleType, DateType, TimestampType\n",
    "from pyspark import SparkConf, SparkContext\n",
    "from pyspark.sql import SparkSession\n",
    "from pyspark.conf import SparkConf\n",
    "from pyspark.sql import SparkSession\n",
    "\n",
    "config = {\n",
    "    \"user\":\"neo4j\",\n",
    "    \"password\":\"P@55w0rd@2023\",\n",
    "    \"url\":\"bolt://20.98.50.241:7687\",\n",
    "    \"database\":\"neo4j\",\n",
    "    \"batch_size\":5000\n",
    "}\n",
    "\n",
    "pySpark = SparkSession \\\n",
    "    .builder \\\n",
    "    .appName(\"neo4j-fabric\") \\\n",
    "    .config(\"spark.jars\", \"Files/neo4j-connector-apache-spark_2.12-5.0.1_for_spark_3.jar\") \\\n",
    "    .config(\"spark.executor.extraClassPath\", \"Files/neo4j-connector-apache-spark_2.12-5.0.1_for_spark_3.jar\") \\\n",
    "    .getOrCreate()\n",
    "\n",
    "print(\"Jar loaded:\")\n",
    "print(spark.sparkContext._jsc.sc().listJars())    \n",
    "\n",
    "supplier_df = spark.read.format(\"csv\").option(\"header\",\"true\").load(\"Files/Northwind/suppliers.csv\")\n",
    "\n",
    "supplier_df.write.format(\"org.neo4j.spark.DataSource\").option(\"url\", \"bolt://20.98.50.241:7687\").option(\"labels\", \":Person:Supplier\").save()\n",
    "\n"
   ]
  }
 ],
 "metadata": {
  "language_info": {
   "name": "python"
  },
  "orig_nbformat": 4
 },
 "nbformat": 4,
 "nbformat_minor": 2
}
